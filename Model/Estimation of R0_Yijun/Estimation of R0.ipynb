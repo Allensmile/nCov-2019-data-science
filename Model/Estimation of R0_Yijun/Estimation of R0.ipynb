{
 "cells": [
  {
   "cell_type": "markdown",
   "metadata": {},
   "source": [
    "# Yijun Wang\n",
    "### 2020/02/09\n",
    "\n",
    "## Note for parameter\n",
    "- Generation period value is taken from reference 1 and 2\n",
    "- p value is taken from People's Daily Weibo. https://m.weibo.cn/u/2803301701\n",
    "- R0 model refers to reference 3\n",
    "\n",
    "## Reference\n",
    "- 1. Li, Q., Guan, X., et al. (2020, January 29). Early Transmission Dynamics in Wuhan, China, of Novel Coronavirus–Infected Pneumonia. The New England Journal of Medicine. https://www.nejm.org/doi/full/10.1056/NEJMoa2001316#article_references\n",
    "\n",
    "- 2. Wu, Joseph T., et al. (2020, January 28). Nowcasting and Forecasting the potential domestic and International Spread of the 2019-nCoV Outbreak Originating in Wuhan, China: a Modeling Study. Lancet.https://www.thelancet.com/journals/lancet/article/PIIS0140-6736(20)30260-9/fulltext\n",
    "\n",
    "- 3. Zhou Tao, Liu, Y., et al. (2020, January 29). Preliminary Prediction of the Basic Repreduction Number of the Novel Coronavirus 2019-nCoV http://kns.cnki.net/kcms/detail/51.1656.r.20200204.1640.002.html"
   ]
  },
  {
   "cell_type": "code",
   "execution_count": null,
   "metadata": {},
   "outputs": [],
   "source": [
    "# load data\n",
    "import requests\n",
    "import pandas as pd\n",
    "\n",
    "url = 'https://lab.isaaclin.cn/nCoV/api/overall?latest=0'\n",
    "r = requests.request('GET', url)\n",
    "data = r.json()\n",
    "df = pd.DataFrame.from_records(data['results'])\n",
    "from datetime import datetime\n",
    "import pandas\n",
    "\n",
    "# date\n",
    "df['t'] = pandas.to_datetime(df['updateTime']/1000,unit='s')\n",
    "import datetime\n",
    "df = df.resample('D', on = 't').max()\n",
    "df['date'] = df['t'].dt.date"
   ]
  },
  {
   "cell_type": "code",
   "execution_count": 27,
   "metadata": {},
   "outputs": [],
   "source": [
    "# R0\n",
    "import math\n",
    "import numpy\n",
    "from array import *\n",
    "import matplotlib.pyplot as plt\n",
    "\n",
    "# generation period or serial interval (Wu, 2020; Li, 2020)\n",
    "Tg = 7.5\n",
    "\n",
    "# days: 疾病已爆发时间\n",
    "import datetime\n",
    "df['days'] = (df['updateTime']/1000 - datetime.datetime(2019,12,1,0,0,0).timestamp())/60/60/24\n",
    "\n",
    "def R0Func(confirm, suspect,t):\n",
    "    # confirm是确诊人数；susp是疑似人数；t是疾病已爆发时间\n",
    "    # p为疑似病例转化为确诊病例的概率\n",
    "    p = 41/59 # 人民日报微博\n",
    "    # yt为实际预估感染人数\n",
    "    Yt = suspect * p + confirm\n",
    "    # lamda预估感染人数的增长率\n",
    "    lamda = math.log(Yt)/t\n",
    "    R0 = 1 + lamda * Tg + p * (1 - p) * pow(lamda * Tg, 2)\n",
    "    return R0\n",
    "\n",
    "df['R0'] = df.apply(lambda x: R0Func(x['confirmedCount'], x['suspectedCount'], x['days']), axis = 1)"
   ]
  },
  {
   "cell_type": "code",
   "execution_count": 26,
   "metadata": {},
   "outputs": [
    {
     "data": {
      "image/png": "[encoded data removed]",
      "text/plain": [
       "<Figure size 432x288 with 1 Axes>"
      ]
     },
     "metadata": {
      "needs_background": "light"
     },
     "output_type": "display_data"
    }
   ],
   "source": [
    "# graph\n",
    "import pandas\n",
    "import matplotlib.pyplot as plt\n",
    "from pandas.plotting import register_matplotlib_converters\n",
    "register_matplotlib_converters()\n",
    "plt.plot(df['date'], df['R0'], color = 'magenta',label = 'R0', marker = 's')\n",
    "plt.title('Estimation of R0 Throughout Time')\n",
    "plt.legend()\n",
    "plt.grid()\n",
    "plt.xlabel('Date')\n",
    "plt.ylabel('R0')\n",
    "plt.xticks(rotation = 45)\n",
    "plt.show()\n"
   ]
  }
 ],
 "metadata": {
  "kernelspec": {
   "display_name": "Python 3",
   "language": "python",
   "name": "python3"
  },
  "language_info": {
   "codemirror_mode": {
    "name": "ipython",
    "version": 3
   },
   "file_extension": ".py",
   "mimetype": "text/x-python",
   "name": "python",
   "nbconvert_exporter": "python",
   "pygments_lexer": "ipython3",
   "version": "3.7.4"
  }
 },
 "nbformat": 4,
 "nbformat_minor": 2
}
